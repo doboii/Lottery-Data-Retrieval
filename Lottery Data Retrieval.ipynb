{
 "cells": [
  {
   "cell_type": "code",
   "execution_count": 1,
   "metadata": {},
   "outputs": [
    {
     "name": "stdout",
     "output_type": "stream",
     "text": [
      "import finished\n"
     ]
    }
   ],
   "source": [
    "import selenium\n",
    "import time\n",
    "from time import sleep\n",
    "from selenium import webdriver\n",
    "from selenium.webdriver.common.keys import Keys\n",
    "from selenium.webdriver.common.by import By\n",
    "from selenium.webdriver.support import expected_conditions as EC\n",
    "import pandas as pd\n",
    "from bs4 import BeautifulSoup\n",
    "import re\n",
    "print('import finished')"
   ]
  },
  {
   "cell_type": "code",
   "execution_count": 2,
   "metadata": {},
   "outputs": [],
   "source": [
    "#Accesss to trang web\n",
    "driver = webdriver.Chrome()\n",
    "url = \"https://www.minhngoc.net.vn/ket-qua-xo-so/dien-toan-vietlott/mega-6x45/20-07-2016.html\"\n",
    "driver.get(url)\n",
    "\n",
    "def GetURL():\n",
    "    # Retrieve all HTML from Webpage to a BeautifulSoup Object then converts to HTML (this seems redundant!)\n",
    "    page_source = BeautifulSoup(driver.page_source)\n",
    "    html = page_source.prettify()\n",
    "\n",
    "    # Find Date of Lottery Results Announcement\n",
    "    soup = BeautifulSoup(html, 'html.parser')\n",
    "    date_input = soup.find('input', {'id': 'getngaykqxs_1'})\n",
    "    date_value = date_input['value']\n",
    "\n",
    "    # Find Lottery-Results\n",
    "    pattern = re.compile(r'finnish')\n",
    "    results = page_source.find_all('div', attrs={'class': pattern})\n",
    "\n",
    "    # Convert results from BeautifulSoup Object to HTML\n",
    "    html_results = ''\n",
    "    for result in results:\n",
    "        html_results += str(result)\n",
    "\n",
    "    # Convert html\n",
    "    soup1 = BeautifulSoup(html_results, 'html.parser')\n",
    "    values = [int(div.text) for div in soup1.find_all('div')][:6]\n",
    "\n",
    "    # Create a dataframe\n",
    "    df = pd.DataFrame(columns=['announce_date', 'lottery_win_number'])\n",
    "    df.loc[len(df)] = [date_value, values]\n",
    "\n",
    "    return df\n"
   ]
  },
  {
   "cell_type": "code",
   "execution_count": 9,
   "metadata": {},
   "outputs": [
    {
     "name": "stdout",
     "output_type": "stream",
     "text": [
      "   announce_date        lottery_win_number\n",
      "0     20-07-2016   [2, 17, 33, 37, 38, 45]\n",
      "1     21-07-2016   [2, 17, 33, 37, 38, 45]\n",
      "2     22-07-2016    [3, 4, 14, 20, 25, 35]\n",
      "3     23-07-2016    [3, 4, 14, 20, 25, 35]\n",
      "4     24-07-2016   [1, 10, 16, 18, 23, 38]\n",
      "5     25-07-2016   [1, 10, 16, 18, 23, 38]\n",
      "6     26-07-2016   [1, 10, 16, 18, 23, 38]\n",
      "7     27-07-2016  [14, 17, 21, 25, 31, 37]\n",
      "8     28-07-2016  [14, 17, 21, 25, 31, 37]\n",
      "9     29-07-2016    [3, 8, 13, 20, 30, 36]\n",
      "10    30-07-2016    [3, 8, 13, 20, 30, 36]\n",
      "11    31-07-2016    [2, 6, 19, 21, 35, 39]\n",
      "12    01-08-2016    [2, 6, 19, 21, 35, 39]\n",
      "13    02-08-2016    [2, 6, 19, 21, 35, 39]\n",
      "14    03-08-2016   [7, 10, 25, 27, 29, 40]\n",
      "15    04-08-2016   [7, 10, 25, 27, 29, 40]\n",
      "16    05-08-2016    [3, 9, 13, 18, 24, 31]\n",
      "17    06-08-2016    [3, 9, 13, 18, 24, 31]\n",
      "18    07-08-2016    [3, 5, 17, 22, 30, 31]\n",
      "19    08-08-2016    [3, 5, 17, 22, 30, 31]\n",
      "20    09-08-2016    [3, 5, 17, 22, 30, 31]\n",
      "21    10-08-2016   [6, 15, 16, 19, 27, 30]\n",
      "22    11-08-2016   [6, 15, 16, 19, 27, 30]\n",
      "23    12-08-2016  [28, 31, 34, 37, 38, 41]\n",
      "24    13-08-2016  [28, 31, 34, 37, 38, 41]\n",
      "25    14-08-2016  [13, 16, 17, 29, 31, 37]\n",
      "26    15-08-2016  [13, 16, 17, 29, 31, 37]\n",
      "27    16-08-2016  [13, 16, 17, 29, 31, 37]\n",
      "28    17-08-2016     [2, 4, 9, 19, 21, 26]\n",
      "29    18-08-2016     [2, 4, 9, 19, 21, 26]\n",
      "30    19-08-2016  [11, 12, 17, 33, 34, 36]\n",
      "31    20-08-2016  [11, 12, 17, 33, 34, 36]\n",
      "32    21-08-2016  [13, 21, 24, 25, 29, 44]\n",
      "33    22-08-2016  [13, 21, 24, 25, 29, 44]\n",
      "34    23-08-2016  [13, 21, 24, 25, 29, 44]\n",
      "35    24-08-2016   [8, 17, 21, 23, 36, 40]\n",
      "36    25-08-2016   [8, 17, 21, 23, 36, 40]\n",
      "37    26-08-2016  [10, 36, 39, 43, 44, 45]\n",
      "38    27-08-2016  [10, 36, 39, 43, 44, 45]\n",
      "39    28-08-2016    [4, 6, 10, 15, 16, 44]\n",
      "40    29-08-2016    [4, 6, 10, 15, 16, 44]\n",
      "41    30-08-2016    [4, 6, 10, 15, 16, 44]\n",
      "42    31-08-2016   [8, 20, 21, 31, 34, 39]\n",
      "43    01-09-2016   [8, 20, 21, 31, 34, 39]\n",
      "44    02-09-2016   [9, 13, 24, 35, 36, 41]\n",
      "45    03-09-2016   [9, 13, 24, 35, 36, 41]\n",
      "46    04-09-2016  [11, 15, 20, 24, 27, 45]\n",
      "47    05-09-2016  [11, 15, 20, 24, 27, 45]\n",
      "48    06-09-2016  [11, 15, 20, 24, 27, 45]\n",
      "49    07-09-2016    [6, 8, 12, 13, 15, 19]\n"
     ]
    }
   ],
   "source": [
    "# Iterate over pages\n",
    "def scrape_data(driver):\n",
    "    df_all_page = pd.DataFrame(columns=['announce_date', 'lottery_win_number'])\n",
    "    for page in range(50):\n",
    "        df_one_page = GetURL()\n",
    "        sleep(2)\n",
    "        next_button = driver.find_element(By.XPATH, '//*[@id=\"pagenav\"]/table/tbody/tr/td/ul/li[6]/a')\n",
    "        next_button.click()\n",
    "        #There is an issue with the popup after next_button.click(). Current solution is manually close the popup. Needs further research.\n",
    "        #pop_up = driver.find_element(By.XPATH, '//*[@id=\"dismiss-button\"]/div/span')\n",
    "        #pop_up.click()\n",
    "        #pop-up xpath: //*[@id=\"dismiss-button\"]/div/span\n",
    "        df_all_page = pd.concat([df_all_page, df_one_page],ignore_index=True)\n",
    "        sleep(2)\n",
    "    return df_all_page\n",
    "\n",
    "# Call the function to run the code\n",
    "scraped_data = scrape_data(driver)\n",
    "print(scraped_data)\n"
   ]
  },
  {
   "cell_type": "code",
   "execution_count": 10,
   "metadata": {},
   "outputs": [],
   "source": [
    "# Save data to CSV\n",
    "scraped_data.to_csv('sample.csv')\n",
    "\n",
    "#Outcome has issue. Date format messed up. 2nd column return a list with the \"[]\" symbols."
   ]
  },
  {
   "cell_type": "code",
   "execution_count": null,
   "metadata": {},
   "outputs": [],
   "source": []
  }
 ],
 "metadata": {
  "kernelspec": {
   "display_name": "Python 3",
   "language": "python",
   "name": "python3"
  },
  "language_info": {
   "codemirror_mode": {
    "name": "ipython",
    "version": 3
   },
   "file_extension": ".py",
   "mimetype": "text/x-python",
   "name": "python",
   "nbconvert_exporter": "python",
   "pygments_lexer": "ipython3",
   "version": "3.11.2"
  },
  "orig_nbformat": 4
 },
 "nbformat": 4,
 "nbformat_minor": 2
}
